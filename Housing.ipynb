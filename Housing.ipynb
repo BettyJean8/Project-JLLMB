{
 "cells": [
  {
   "cell_type": "code",
   "execution_count": 3,
   "id": "4e4f1428-c28b-4ff4-95ae-cb3d41ebc980",
   "metadata": {},
   "outputs": [],
   "source": [
    "import matplotlib.pyplot as plt\n",
    "import pandas as pd\n",
    "from scipy.stats import linregress\n",
    "from scipy import stats"
   ]
  },
  {
   "cell_type": "code",
   "execution_count": 43,
   "id": "242b02bb-df9a-4213-9c79-261af2e9d554",
   "metadata": {},
   "outputs": [
    {
     "name": "stdout",
     "output_type": "stream",
     "text": [
      "   MonthYear  Minneapolis, MN   Duluth, MN  Rochester, MN\n",
      "0 2018-01-31      1651.229431  1285.898298    1324.459656\n",
      "1 2018-02-28      1666.570082  1282.255189    1373.733893\n",
      "2 2018-03-31      1675.741524  1273.994196    1394.786511\n",
      "3 2018-04-30      1688.432775  1272.153748    1420.143102\n",
      "4 2018-05-31      1695.923052  1288.003275    1416.106843\n"
     ]
    },
    {
     "data": {
      "text/html": [
       "<div>\n",
       "<style scoped>\n",
       "    .dataframe tbody tr th:only-of-type {\n",
       "        vertical-align: middle;\n",
       "    }\n",
       "\n",
       "    .dataframe tbody tr th {\n",
       "        vertical-align: top;\n",
       "    }\n",
       "\n",
       "    .dataframe thead th {\n",
       "        text-align: right;\n",
       "    }\n",
       "</style>\n",
       "<table border=\"1\" class=\"dataframe\">\n",
       "  <thead>\n",
       "    <tr style=\"text-align: right;\">\n",
       "      <th></th>\n",
       "      <th>MonthYear</th>\n",
       "      <th>Minneapolis, MN</th>\n",
       "      <th>Duluth, MN</th>\n",
       "      <th>Rochester, MN</th>\n",
       "    </tr>\n",
       "  </thead>\n",
       "  <tbody>\n",
       "    <tr>\n",
       "      <th>0</th>\n",
       "      <td>2018-01-31</td>\n",
       "      <td>272790.391700</td>\n",
       "      <td>153019.204829</td>\n",
       "      <td>218363.967261</td>\n",
       "    </tr>\n",
       "    <tr>\n",
       "      <th>1</th>\n",
       "      <td>2018-02-28</td>\n",
       "      <td>274889.696695</td>\n",
       "      <td>153307.688686</td>\n",
       "      <td>219632.614341</td>\n",
       "    </tr>\n",
       "    <tr>\n",
       "      <th>2</th>\n",
       "      <td>2018-03-31</td>\n",
       "      <td>277166.902005</td>\n",
       "      <td>153919.747485</td>\n",
       "      <td>220774.265507</td>\n",
       "    </tr>\n",
       "    <tr>\n",
       "      <th>3</th>\n",
       "      <td>2018-04-30</td>\n",
       "      <td>279441.449079</td>\n",
       "      <td>154623.054771</td>\n",
       "      <td>221707.680088</td>\n",
       "    </tr>\n",
       "    <tr>\n",
       "      <th>4</th>\n",
       "      <td>2018-05-31</td>\n",
       "      <td>281434.591075</td>\n",
       "      <td>155506.518195</td>\n",
       "      <td>222588.557622</td>\n",
       "    </tr>\n",
       "  </tbody>\n",
       "</table>\n",
       "</div>"
      ],
      "text/plain": [
       "   MonthYear  Minneapolis, MN     Duluth, MN  Rochester, MN\n",
       "0 2018-01-31    272790.391700  153019.204829  218363.967261\n",
       "1 2018-02-28    274889.696695  153307.688686  219632.614341\n",
       "2 2018-03-31    277166.902005  153919.747485  220774.265507\n",
       "3 2018-04-30    279441.449079  154623.054771  221707.680088\n",
       "4 2018-05-31    281434.591075  155506.518195  222588.557622"
      ]
     },
     "execution_count": 43,
     "metadata": {},
     "output_type": "execute_result"
    }
   ],
   "source": [
    "rent_df = pd.read_excel(\"Metro_zori_uc_sfr_sm_month.xlsx\", sheet_name=\"Filtered_clean\")\n",
    "print(rent_df.head())\n",
    "\n",
    "principal_value_df = pd.read_excel(\"Metro_zhvi_uc_sfr_tier_0.33_0.67_sm_sa_month.xlsx\", sheet_name=\"Filtered_cleaned\")\n",
    "principal_value_df.head()"
   ]
  },
  {
   "cell_type": "code",
   "execution_count": 44,
   "id": "1d8fdfd6-c4ab-40e2-8dce-3447982e7f2a",
   "metadata": {},
   "outputs": [
    {
     "data": {
      "text/html": [
       "<div>\n",
       "<style scoped>\n",
       "    .dataframe tbody tr th:only-of-type {\n",
       "        vertical-align: middle;\n",
       "    }\n",
       "\n",
       "    .dataframe tbody tr th {\n",
       "        vertical-align: top;\n",
       "    }\n",
       "\n",
       "    .dataframe thead th {\n",
       "        text-align: right;\n",
       "    }\n",
       "</style>\n",
       "<table border=\"1\" class=\"dataframe\">\n",
       "  <thead>\n",
       "    <tr style=\"text-align: right;\">\n",
       "      <th></th>\n",
       "      <th>MonthYear</th>\n",
       "      <th>Minneapolis, MN</th>\n",
       "      <th>Duluth, MN</th>\n",
       "      <th>Rochester, MN</th>\n",
       "    </tr>\n",
       "  </thead>\n",
       "  <tbody>\n",
       "    <tr>\n",
       "      <th>0</th>\n",
       "      <td>2018-01-31</td>\n",
       "      <td>1651.0</td>\n",
       "      <td>1286.0</td>\n",
       "      <td>1324.0</td>\n",
       "    </tr>\n",
       "    <tr>\n",
       "      <th>1</th>\n",
       "      <td>2018-02-28</td>\n",
       "      <td>1667.0</td>\n",
       "      <td>1282.0</td>\n",
       "      <td>1374.0</td>\n",
       "    </tr>\n",
       "    <tr>\n",
       "      <th>2</th>\n",
       "      <td>2018-03-31</td>\n",
       "      <td>1676.0</td>\n",
       "      <td>1274.0</td>\n",
       "      <td>1395.0</td>\n",
       "    </tr>\n",
       "    <tr>\n",
       "      <th>3</th>\n",
       "      <td>2018-04-30</td>\n",
       "      <td>1688.0</td>\n",
       "      <td>1272.0</td>\n",
       "      <td>1420.0</td>\n",
       "    </tr>\n",
       "    <tr>\n",
       "      <th>4</th>\n",
       "      <td>2018-05-31</td>\n",
       "      <td>1696.0</td>\n",
       "      <td>1288.0</td>\n",
       "      <td>1416.0</td>\n",
       "    </tr>\n",
       "  </tbody>\n",
       "</table>\n",
       "</div>"
      ],
      "text/plain": [
       "   MonthYear  Minneapolis, MN  Duluth, MN  Rochester, MN\n",
       "0 2018-01-31           1651.0      1286.0         1324.0\n",
       "1 2018-02-28           1667.0      1282.0         1374.0\n",
       "2 2018-03-31           1676.0      1274.0         1395.0\n",
       "3 2018-04-30           1688.0      1272.0         1420.0\n",
       "4 2018-05-31           1696.0      1288.0         1416.0"
      ]
     },
     "execution_count": 44,
     "metadata": {},
     "output_type": "execute_result"
    }
   ],
   "source": [
    "# Rent\n",
    "\n",
    "rent_df.head().round()"
   ]
  },
  {
   "cell_type": "code",
   "execution_count": 45,
   "id": "a56421c0-5e44-426f-ba63-672d1938cb50",
   "metadata": {},
   "outputs": [
    {
     "data": {
      "text/html": [
       "<div>\n",
       "<style scoped>\n",
       "    .dataframe tbody tr th:only-of-type {\n",
       "        vertical-align: middle;\n",
       "    }\n",
       "\n",
       "    .dataframe tbody tr th {\n",
       "        vertical-align: top;\n",
       "    }\n",
       "\n",
       "    .dataframe thead th {\n",
       "        text-align: right;\n",
       "    }\n",
       "</style>\n",
       "<table border=\"1\" class=\"dataframe\">\n",
       "  <thead>\n",
       "    <tr style=\"text-align: right;\">\n",
       "      <th></th>\n",
       "      <th>MonthYear</th>\n",
       "      <th>Minneapolis, MN</th>\n",
       "      <th>Duluth, MN</th>\n",
       "      <th>Rochester, MN</th>\n",
       "    </tr>\n",
       "  </thead>\n",
       "  <tbody>\n",
       "    <tr>\n",
       "      <th>0</th>\n",
       "      <td>2018-01-31</td>\n",
       "      <td>272790.0</td>\n",
       "      <td>153019.0</td>\n",
       "      <td>218364.0</td>\n",
       "    </tr>\n",
       "    <tr>\n",
       "      <th>1</th>\n",
       "      <td>2018-02-28</td>\n",
       "      <td>274890.0</td>\n",
       "      <td>153308.0</td>\n",
       "      <td>219633.0</td>\n",
       "    </tr>\n",
       "    <tr>\n",
       "      <th>2</th>\n",
       "      <td>2018-03-31</td>\n",
       "      <td>277167.0</td>\n",
       "      <td>153920.0</td>\n",
       "      <td>220774.0</td>\n",
       "    </tr>\n",
       "    <tr>\n",
       "      <th>3</th>\n",
       "      <td>2018-04-30</td>\n",
       "      <td>279441.0</td>\n",
       "      <td>154623.0</td>\n",
       "      <td>221708.0</td>\n",
       "    </tr>\n",
       "    <tr>\n",
       "      <th>4</th>\n",
       "      <td>2018-05-31</td>\n",
       "      <td>281435.0</td>\n",
       "      <td>155507.0</td>\n",
       "      <td>222589.0</td>\n",
       "    </tr>\n",
       "  </tbody>\n",
       "</table>\n",
       "</div>"
      ],
      "text/plain": [
       "   MonthYear  Minneapolis, MN  Duluth, MN  Rochester, MN\n",
       "0 2018-01-31         272790.0    153019.0       218364.0\n",
       "1 2018-02-28         274890.0    153308.0       219633.0\n",
       "2 2018-03-31         277167.0    153920.0       220774.0\n",
       "3 2018-04-30         279441.0    154623.0       221708.0\n",
       "4 2018-05-31         281435.0    155507.0       222589.0"
      ]
     },
     "execution_count": 45,
     "metadata": {},
     "output_type": "execute_result"
    }
   ],
   "source": [
    "# principal value\n",
    "\n",
    "principal_value_df.head().round()"
   ]
  },
  {
   "cell_type": "code",
   "execution_count": 53,
   "id": "dbb84782-e1cc-41ea-9f60-96ca1abb598c",
   "metadata": {},
   "outputs": [
    {
     "data": {
      "text/plain": [
       "0    758.0\n",
       "1    764.0\n",
       "2    770.0\n",
       "3    776.0\n",
       "4    782.0\n",
       "Name: Minneapolis, MN, dtype: float64"
      ]
     },
     "execution_count": 53,
     "metadata": {},
     "output_type": "execute_result"
    }
   ],
   "source": [
    "# Assuming that the data extracrted is the home value and 30 yr mortgage, principal value\n",
    "monthly_principal_payment_minneapolis = zhvi_df[\"Minneapolis, MN\"]/30/12\n",
    "monthly_principal_payment_minneapolis.head().round()"
   ]
  },
  {
   "cell_type": "code",
   "execution_count": null,
   "id": "954a6dc8-864f-4405-82a8-d2a8d21493b7",
   "metadata": {},
   "outputs": [],
   "source": []
  }
 ],
 "metadata": {
  "kernelspec": {
   "display_name": "Python 3 (ipykernel)",
   "language": "python",
   "name": "python3"
  },
  "language_info": {
   "codemirror_mode": {
    "name": "ipython",
    "version": 3
   },
   "file_extension": ".py",
   "mimetype": "text/x-python",
   "name": "python",
   "nbconvert_exporter": "python",
   "pygments_lexer": "ipython3",
   "version": "3.12.4"
  }
 },
 "nbformat": 4,
 "nbformat_minor": 5
}
